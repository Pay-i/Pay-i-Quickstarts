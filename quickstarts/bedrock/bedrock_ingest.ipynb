{
 "cells": [
  {
   "cell_type": "code",
   "execution_count": null,
   "metadata": {},
   "outputs": [],
   "source": [
    "%pip install --upgrade -r requirements.txt"
   ]
  },
  {
   "cell_type": "markdown",
   "metadata": {},
   "source": [
    "Create the Pay-i client"
   ]
  },
  {
   "cell_type": "code",
   "execution_count": null,
   "metadata": {},
   "outputs": [],
   "source": [
    "import os\n",
    "\n",
    "from payi import Payi\n",
    "\n",
    "# Read the API KEYs from the environment, replace the default values (the second argument) with your own keys if needed\n",
    "payi_api_key = os.getenv(\"PAYI_API_KEY\", \"YOUR_PAYI_API_KEY\")\n",
    "\n",
    "payi = Payi(\n",
    "    api_key=payi_api_key,\n",
    ")"
   ]
  },
  {
   "cell_type": "markdown",
   "metadata": {},
   "source": [
    "Create a use case definition and limit.  Both will be used when ingesting data into Pay-i"
   ]
  },
  {
   "cell_type": "code",
   "execution_count": null,
   "metadata": {},
   "outputs": [],
   "source": [
    "use_case_name = 'bedrock_ingest_use_case_test'\n",
    "payi.use_cases.definitions.create(name=use_case_name, description='This is a test use case')\n",
    " \n",
    "result = payi.limits.create(max=10_000, limit_name='bedrock_ingest_limit')\n",
    "limit_id = result.limit.limit_id\n",
    "\n",
    "print(f\"Created limit with id {limit_id}\")"
   ]
  },
  {
   "cell_type": "markdown",
   "metadata": {},
   "source": [
    "Instrument the Bedrock client so that the use case is associated with each inference call"
   ]
  },
  {
   "cell_type": "code",
   "execution_count": null,
   "metadata": {},
   "outputs": [],
   "source": [
    "from payi.lib.instrument import payi_instrument\n",
    "\n",
    "# Not passing payi as a parameter requires the env var \"PAYI_API_KEY\" is set, otherwise pass payi=payi\n",
    "# When use_case_name is provided and use_id is not, a use instance id will be automatically created and the same id will be applied to all Anthropic calls\n",
    "payi_instrument(config={\"use_case_name\": use_case_name})"
   ]
  },
  {
   "cell_type": "markdown",
   "metadata": {},
   "source": [
    "Create the Bedrock client after calling payi_instrument"
   ]
  },
  {
   "cell_type": "code",
   "execution_count": null,
   "metadata": {},
   "outputs": [],
   "source": [
    "import boto3\n",
    "\n",
    "# Substitute the region for your regional deployment\n",
    "region_name = \"us-west-2\"\n",
    "\n",
    "# The bedrock client must be created after the payi_instrument has been called\n",
    "bedrock = boto3.client(\n",
    "    'bedrock-runtime',\n",
    "    region_name=region_name,\n",
    "    )"
   ]
  },
  {
   "cell_type": "markdown",
   "metadata": {},
   "source": [
    "Helper method to call the Bedrock client and pass additional information to Pay-i "
   ]
  },
  {
   "cell_type": "code",
   "execution_count": null,
   "metadata": {},
   "outputs": [],
   "source": [
    "import json\n",
    "from payi.lib.helpers import create_headers\n",
    "\n",
    "def call_bedrock(client, limit_id, user_id):\n",
    "    \n",
    "    request_dict = {\n",
    "        \"anthropic_version\": \"bedrock-2023-05-31\",\n",
    "        \"max_tokens\": 512,\n",
    "        \"temperature\": 0.5,\n",
    "        \"messages\": [\n",
    "            {\n",
    "                \"role\": \"user\",\n",
    "                \"content\": [{\"type\": \"text\", \"text\": \"this is a test\"}],\n",
    "            }\n",
    "        ],\n",
    "    }\n",
    "\n",
    "    # Convert the request to JSON\n",
    "    request_body = json.dumps(request_dict)\n",
    "    model_id = 'anthropic.claude-3-haiku-20240307-v1:0'\n",
    "\n",
    "    # Invoke the model with the request.\n",
    "    invoke_response = bedrock.invoke_model(\n",
    "        modelId=model_id,\n",
    "        body=request_body,\n",
    "        # To pass per method metadata to ingest, specify each metadata value in the call to create_headers.  \n",
    "        # These additional header values will not be sent to bedrock.\n",
    "        extra_headers=create_headers(request_tags=['x', 'y'], user_id=user_id, limit_ids=[limit_id])\n",
    "    )\n",
    "    \n",
    "    # Decode the response body.\n",
    "    response = invoke_response[\"body\"].read()\n",
    "\n",
    "    response_json = json.loads(response)\n",
    "    print(response_json[\"content\"][0][\"text\"])\n",
    "\n",
    "    # Additional calls to bedrock (invoke_model_with_response_stream, converse, converse_stream) can be made here and will be ingested.\n",
    "    # If another method is called, it's calls to bedrock will also be ingested.\n",
    "    ...\n"
   ]
  },
  {
   "cell_type": "markdown",
   "metadata": {},
   "source": [
    "Call Bedrock and the results are automatically ingested by the Pay-i instrumentation"
   ]
  },
  {
   "cell_type": "code",
   "execution_count": null,
   "metadata": {},
   "outputs": [],
   "source": [
    "call_bedrock(bedrock, limit_id, 'a_user_id')"
   ]
  },
  {
   "cell_type": "markdown",
   "metadata": {},
   "source": [
    "See that the limit input, output, and total base cost has been updated with the ingest data"
   ]
  },
  {
   "cell_type": "code",
   "execution_count": null,
   "metadata": {},
   "outputs": [],
   "source": [
    "response = payi.limits.retrieve(limit_id=limit_id)\n",
    "print(f\"Limit Name: {response.limit.limit_name}\")\n",
    "print(f\"Limit ID: {response.limit.limit_id}\")\n",
    "print(f\"Limit Creation Timestamp: {response.limit.limit_creation_timestamp}\")\n",
    "print(f\"Limit Tags: {response.limit.limit_tags}\")\n",
    "print(f\"Limit Input Base Cost: {response.limit.totals.cost.input.base}\")\n",
    "print(f\"Limit Output Base Cost: {response.limit.totals.cost.output.base}\")\n",
    "print(f\"Limit Total Base Cost: {response.limit.totals.cost.total.base}\")"
   ]
  },
  {
   "cell_type": "markdown",
   "metadata": {},
   "source": [
    "Reset a limit back to zero tracked cost"
   ]
  },
  {
   "cell_type": "code",
   "execution_count": null,
   "metadata": {},
   "outputs": [],
   "source": [
    "print(\"\\nState prior to reset:\")\n",
    "response = payi.limits.reset(limit_id=limit_id)\n",
    "print(f\"Limit Name: {response.limit_history.limit_name}\")\n",
    "print(f\"Limit ID: {response.limit_history.limit_id}\")\n",
    "print(f\"Limit Reset Timestamp: {response.limit_history.limit_reset_timestamp}\")\n",
    "print(f\"Limit Tags: {response.limit_history.limit_tags}\")\n",
    "print(f\"Limit Input Base Cost: {response.limit_history.totals.cost.input.base}\")\n",
    "print(f\"Limit Output Base Cost: {response.limit_history.totals.cost.output.base}\")\n",
    "print(f\"Limit Total Base Cost: {response.limit_history.totals.cost.total.base}\")\n",
    "\n",
    "print(\"\\nState after reset:\")\n",
    "response = payi.limits.retrieve(limit_id=limit_id)\n",
    "print(f\"Limit Name: {response.limit.limit_name}\")\n",
    "print(f\"Limit ID: {response.limit.limit_id}\")\n",
    "print(f\"Limit Creation Timestamp: {response.limit.limit_creation_timestamp}\")\n",
    "print(f\"Limit Tags: {response.limit.limit_tags}\")\n",
    "print(f\"Limit Input Base Cost: {response.limit.totals.cost.input.base}\")\n",
    "print(f\"Limit Output Base Cost: {response.limit.totals.cost.output.base}\")\n",
    "print(f\"Limit Total Base Cost: {response.limit.totals.cost.total.base}\")"
   ]
  }
 ],
 "metadata": {
  "kernelspec": {
   "display_name": ".venv",
   "language": "python",
   "name": "python3"
  },
  "language_info": {
   "codemirror_mode": {
    "name": "ipython",
    "version": 3
   },
   "file_extension": ".py",
   "mimetype": "text/x-python",
   "name": "python",
   "nbconvert_exporter": "python",
   "pygments_lexer": "ipython3",
   "version": "3.13.2"
  }
 },
 "nbformat": 4,
 "nbformat_minor": 2
}
