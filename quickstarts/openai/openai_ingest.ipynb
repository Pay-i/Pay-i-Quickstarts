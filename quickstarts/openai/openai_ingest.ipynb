{
 "cells": [
  {
   "cell_type": "code",
   "execution_count": null,
   "metadata": {},
   "outputs": [],
   "source": [
    "%pip install --upgrade -r requirements.txt"
   ]
  },
  {
   "cell_type": "markdown",
   "metadata": {},
   "source": [
    "Create the Pay-i and OpenAI clients"
   ]
  },
  {
   "cell_type": "code",
   "execution_count": null,
   "metadata": {},
   "outputs": [],
   "source": [
    "import os\n",
    "from dotenv import load_dotenv\n",
    "from openai import OpenAI\n",
    "from payi import Payi\n",
    "\n",
    "load_dotenv()\n",
    "\n",
    "# Read the API KEYs from the environment, replace the default values (the second argument) with your own keys if needed\n",
    "openai_key = os.getenv(\"OPENAI_API_KEY\", \"YOUR_OPENAPI_API_KEY\")\n",
    "payi_api_key= os.getenv(\"PAYI_API_KEY\", \"YOUR_PAYI_API_KEY\")\n",
    "\n",
    "payi = Payi(\n",
    "    api_key=payi_api_key,\n",
    ")\n",
    "\n",
    "client = OpenAI(\n",
    "    api_key=openai_key,\n",
    ")"
   ]
  },
  {
   "cell_type": "markdown",
   "metadata": {},
   "source": [
    "Create a use case definition and limit.  Both will be used when ingesting data into Pay-i"
   ]
  },
  {
   "cell_type": "code",
   "execution_count": null,
   "metadata": {},
   "outputs": [],
   "source": [
    "use_case_name = 'openai_ingest_use_case_test'\n",
    "payi.use_cases.definitions.create(name=use_case_name, description='This is a test use case')\n",
    " \n",
    "result = payi.limits.create(max=10_000, limit_name='openai_ingest_limit')\n",
    "limit_id = result.limit.limit_id\n",
    "\n",
    "print(f\"Created limit with id {limit_id}\")"
   ]
  },
  {
   "cell_type": "markdown",
   "metadata": {},
   "source": [
    "Instrument the OpenAI client so that the use case is associated with each inference call"
   ]
  },
  {
   "cell_type": "code",
   "execution_count": null,
   "metadata": {},
   "outputs": [],
   "source": [
    "from payi.lib.instrument import payi_instrument\n",
    "\n",
    "# Not passing payi as a parameter requires the env var \"PAYI_API_KEY\" is set, otherwise pass payi=payi\n",
    "# When use_case_name is provided and use_id is not, a use instance id will be automatically created and the same id will be applied to all OpenAI calls\n",
    "payi_instrument(config={\"use_case_name\": use_case_name})\n"
   ]
  },
  {
   "cell_type": "markdown",
   "metadata": {},
   "source": [
    "Helper method to call the OpenAI client and pass additional information to Pay-i "
   ]
  },
  {
   "cell_type": "code",
   "execution_count": null,
   "metadata": {},
   "outputs": [],
   "source": [
    "from payi.lib.helpers import create_headers\n",
    "from payi.lib.instrument import track_context\n",
    "\n",
    "def call_openai(client, limit_id, user_id):\n",
    "    \n",
    "    with track_context(request_tags=['x', 'y'], user_id=user_id, limit_ids=[limit_id]):\n",
    "        response = client.chat.completions.create(\n",
    "            model=\"gpt-3.5-turbo\", \n",
    "            messages=[{\"role\": \"user\", \"content\": \"tell me a very short story\"}],\n",
    "        )\n",
    "    \n",
    "        completion = response.choices[0].message.content\n",
    "        print(completion)\n",
    "\n",
    "        # Additional calls to OpenAI can be made here and will be ingested.\n",
    "        # If another method is called, it's calls to OpenAI will also be ingested.\n",
    "    ...\n"
   ]
  },
  {
   "cell_type": "markdown",
   "metadata": {},
   "source": [
    "Call OpenAI and the results are automatically ingested by the Pay-i instrumentation"
   ]
  },
  {
   "cell_type": "code",
   "execution_count": null,
   "metadata": {},
   "outputs": [],
   "source": [
    "call_openai(client, limit_id, 'test_user_id')"
   ]
  },
  {
   "cell_type": "markdown",
   "metadata": {},
   "source": [
    "See that the limit input, output, and total base cost has been updated with the ingest data"
   ]
  },
  {
   "cell_type": "code",
   "execution_count": null,
   "metadata": {},
   "outputs": [],
   "source": [
    "response = payi.limits.retrieve(limit_id=limit_id)\n",
    "print(f\"Limit Name: {response.limit.limit_name}\")\n",
    "print(f\"Limit ID: {response.limit.limit_id}\")\n",
    "print(f\"Limit Creation Timestamp: {response.limit.limit_creation_timestamp}\")\n",
    "print(f\"Limit Tags: {response.limit.limit_tags}\")\n",
    "print(f\"Limit Input Base Cost: {response.limit.totals.cost.input.base}\")\n",
    "print(f\"Limit Output Base Cost: {response.limit.totals.cost.output.base}\")\n",
    "print(f\"Limit Total Base Cost: {response.limit.totals.cost.total.base}\")"
   ]
  },
  {
   "cell_type": "markdown",
   "metadata": {},
   "source": [
    "Reset a limit back to zero tracked cost"
   ]
  },
  {
   "cell_type": "code",
   "execution_count": null,
   "metadata": {},
   "outputs": [],
   "source": [
    "print(\"\\nState prior to reset:\")\n",
    "response = payi.limits.reset(limit_id=limit_id)\n",
    "print(f\"Limit Name: {response.limit_history.limit_name}\")\n",
    "print(f\"Limit ID: {response.limit_history.limit_id}\")\n",
    "print(f\"Limit Reset Timestamp: {response.limit_history.limit_reset_timestamp}\")\n",
    "print(f\"Limit Tags: {response.limit_history.limit_tags}\")\n",
    "print(f\"Limit Input Base Cost: {response.limit_history.totals.cost.input.base}\")\n",
    "print(f\"Limit Output Base Cost: {response.limit_history.totals.cost.output.base}\")\n",
    "print(f\"Limit Total Base Cost: {response.limit_history.totals.cost.total.base}\")\n",
    "\n",
    "print(\"\\nState after reset:\")\n",
    "response = payi.limits.retrieve(limit_id=limit_id)\n",
    "print(f\"Limit Name: {response.limit.limit_name}\")\n",
    "print(f\"Limit ID: {response.limit.limit_id}\")\n",
    "print(f\"Limit Creation Timestamp: {response.limit.limit_creation_timestamp}\")\n",
    "print(f\"Limit Tags: {response.limit.limit_tags}\")\n",
    "print(f\"Limit Input Base Cost: {response.limit.totals.cost.input.base}\")\n",
    "print(f\"Limit Output Base Cost: {response.limit.totals.cost.output.base}\")\n",
    "print(f\"Limit Total Base Cost: {response.limit.totals.cost.total.base}\")"
   ]
  }
 ],
 "metadata": {
  "kernelspec": {
   "display_name": ".venv",
   "language": "python",
   "name": "python3"
  },
  "language_info": {
   "codemirror_mode": {
    "name": "ipython",
    "version": 3
   },
   "file_extension": ".py",
   "mimetype": "text/x-python",
   "name": "python",
   "nbconvert_exporter": "python",
   "pygments_lexer": "ipython3",
   "version": "3.13.3"
  }
 },
 "nbformat": 4,
 "nbformat_minor": 2
}
