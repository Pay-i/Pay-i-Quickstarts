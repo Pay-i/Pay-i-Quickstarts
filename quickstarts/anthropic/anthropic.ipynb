{
 "cells": [
  {
   "cell_type": "code",
   "execution_count": null,
   "metadata": {},
   "outputs": [],
   "source": [
    "%pip install --upgrade -r requirements.txt"
   ]
  },
  {
   "cell_type": "markdown",
   "metadata": {},
   "source": [
    "Basic Anthropic Integration"
   ]
  },
  {
   "cell_type": "code",
   "execution_count": null,
   "metadata": {},
   "outputs": [],
   "source": [
    "from anthropic import Anthropic \n",
    "from payi.lib.helpers import payi_anthropic_url, PayiHeaderNames, PayiCategories\n",
    "from dotenv import load_dotenv\n",
    "import json\n",
    "import os\n",
    "\n",
    "load_dotenv()\n",
    "\n",
    "# Read the API KEYs from the environment, replace the default values (the second argument) with your own keys if needed\n",
    "anthropic_key = os.getenv(\"ANTHROPIC_API_KEY\", \"YOUR_ANTHROPIC_API_KEY\")\n",
    "payi_api_key = os.getenv(\"PAYI_API_KEY\", \"YOUR_PAYI_API_KEY\")\n",
    "\n",
    "payi_headers = {\n",
    "    PayiHeaderNames.api_key: payi_api_key,\n",
    "}\n",
    "\n",
    "client = Anthropic(\n",
    "    base_url=payi_anthropic_url(),\n",
    "    api_key=anthropic_key,\n",
    "    default_headers=payi_headers\n",
    ")\n",
    "\n",
    "message = client.messages.create(\n",
    "    model=\"claude-3-5-sonnet-20241022\",\n",
    "    max_tokens=500,\n",
    "    messages=[\n",
    "        {\n",
    "            \"role\": \"user\",\n",
    "            \"content\": [\n",
    "                {\n",
    "                    \"type\": \"text\",\n",
    "                    \"text\": \"Say 'this is a test'\"\n",
    "                }\n",
    "            ]\n",
    "        }\n",
    "    ]\n",
    ")\n",
    "completion = message.content[0].text\n",
    "print(completion)\n",
    "\n",
    "xproxy_result = message.xproxy_result\n",
    "print(json.dumps(xproxy_result, indent=4))\n"
   ]
  },
  {
   "cell_type": "markdown",
   "metadata": {},
   "source": [
    "Handle streaming calls. xproxy_result is returned as part of the last chunk."
   ]
  },
  {
   "cell_type": "code",
   "execution_count": null,
   "metadata": {},
   "outputs": [],
   "source": [
    "stream = client.messages.create(\n",
    "    model=\"claude-3-5-sonnet-20241022\",\n",
    "    max_tokens=500,\n",
    "    messages=[\n",
    "        {\n",
    "            \"role\": \"user\",\n",
    "            \"content\": [\n",
    "                {\n",
    "                    \"type\": \"text\",\n",
    "                    \"text\": \"Say 'this is a test'\"\n",
    "                }\n",
    "            ]\n",
    "        }\n",
    "    ],\n",
    "    stream=True\n",
    ")\n",
    "\n",
    "message = \"\"\n",
    "input_tokens = None\n",
    "output_tokens = None\n",
    "for event in stream:\n",
    "    match event.type:\n",
    "        case \"message_start\":\n",
    "            input_tokens = event.message.usage.input_tokens\n",
    "        case \"content_block_start\":\n",
    "            message += event.content_block.text\n",
    "        case \"content_block_delta\":\n",
    "            message += event.delta.text\n",
    "        case \"message_delta\":\n",
    "            output_tokens = event.usage.output_tokens\n",
    "            if 'xproxy_result' in event.model_extra:\n",
    "                xproxy_result = event.model_extra['xproxy_result']\n",
    "        case \"content_block_stop\" | \"message_stop\":\n",
    "            ...\n",
    "\n",
    "print(message)\n",
    "if (xproxy_result is not None):\n",
    "    print()\n",
    "    print(json.dumps(xproxy_result, indent=4))"
   ]
  },
  {
   "cell_type": "markdown",
   "metadata": {},
   "source": [
    "Use the Pay-i SDK to send a request with request tags"
   ]
  },
  {
   "cell_type": "code",
   "execution_count": null,
   "metadata": {},
   "outputs": [],
   "source": [
    "from payi.lib.helpers import create_headers\n",
    "\n",
    "message = client.messages.create(\n",
    "    model=\"claude-3-5-sonnet-20241022\",\n",
    "    max_tokens=500,\n",
    "    messages=[\n",
    "        {\n",
    "            \"role\": \"user\",\n",
    "            \"content\": [\n",
    "                {\n",
    "                    \"type\": \"text\",\n",
    "                    \"text\": \"Say 'this is a request tag test'\"\n",
    "                }\n",
    "            ]\n",
    "        }\n",
    "    ],\n",
    "    extra_headers=create_headers(request_tags=[\"x\", \"y\"])\n",
    ")\n",
    "\n",
    "completion = message.content[0].text\n",
    "print(completion)\n",
    "\n",
    "xproxy_result = message.xproxy_result\n",
    "print(json.dumps(xproxy_result, indent=4))"
   ]
  },
  {
   "cell_type": "markdown",
   "metadata": {},
   "source": [
    "Create a limit and make a request with that limit"
   ]
  },
  {
   "cell_type": "code",
   "execution_count": null,
   "metadata": {},
   "outputs": [],
   "source": [
    "from payi import Payi\n",
    "\n",
    "payi_client = Payi(\n",
    "    api_key=payi_api_key\n",
    ")\n",
    "\n",
    "#Create a limit\n",
    "limit_response = payi_client.limits.create(\n",
    "    #As long as the limit configuration remains the same across creates, the same limit name can be used repeatedly\n",
    "    limit_name='Anthropic quickstart allow limit',\n",
    "    max=12.50, #$12.50 USD\n",
    "    limit_type=\"Allow\",\n",
    "    limit_tags=[\"example_limit\"]\n",
    ")\n",
    "\n",
    "limit_name = limit_response.limit.limit_name\n",
    "limit_id = limit_response.limit.limit_id\n",
    "\n",
    "print(\"Limit Created\")\n",
    "print(f\"Limit Name: {limit_name}\")\n",
    "print(f\"Limit ID: {limit_id}\")\n",
    "\n",
    "#Make a request using the new limit and request tags\n",
    "message = client.messages.create(\n",
    "    model=\"claude-3-5-sonnet-20241022\",\n",
    "    max_tokens=500,\n",
    "    messages=[\n",
    "        {\n",
    "            \"role\": \"user\",\n",
    "            \"content\": [\n",
    "                {\n",
    "                    \"type\": \"text\",\n",
    "                    \"text\": \"Say 'this is a test'\"\n",
    "                }\n",
    "            ]\n",
    "        }\n",
    "    ],\n",
    "    extra_headers=create_headers(\n",
    "        request_tags=[\"x\", \"y\"],\n",
    "        limit_ids=[limit_id]\n",
    "    )\n",
    ")\n",
    "\n",
    "completion = message.content[0].text\n",
    "print(completion)\n",
    "\n",
    "xproxy_result = message.xproxy_result\n",
    "print(json.dumps(xproxy_result, indent=4))"
   ]
  },
  {
   "cell_type": "markdown",
   "metadata": {},
   "source": [
    "See limit status"
   ]
  },
  {
   "cell_type": "code",
   "execution_count": null,
   "metadata": {},
   "outputs": [],
   "source": [
    "response = payi_client.limits.retrieve(limit_id=limit_id)\n",
    "print(f\"Limit Name: {response.limit.limit_name}\")\n",
    "print(f\"Limit ID: {response.limit.limit_id}\")\n",
    "print(f\"Limit Creation Timestamp: {response.limit.limit_creation_timestamp}\")\n",
    "print(f\"Limit Tags: {response.limit.limit_tags}\")\n",
    "print(f\"Limit Input Base Cost: {response.limit.totals.cost.input.base}\")\n",
    "print(f\"Limit Output Base Cost: {response.limit.totals.cost.output.base}\")\n",
    "print(f\"Limit Total Base Cost: {response.limit.totals.cost.output.base}\")"
   ]
  },
  {
   "cell_type": "markdown",
   "metadata": {},
   "source": [
    "Make an ingest call with pre-computed token values"
   ]
  },
  {
   "cell_type": "code",
   "execution_count": null,
   "metadata": {},
   "outputs": [],
   "source": [
    "response = payi_client.ingest.units(\n",
    "    category=PayiCategories.anthropic,\n",
    "    resource=\"claude-3-5-sonnet-20241022\",\n",
    "    units={ \"text\": { \"input\": 50, \"output\": 100 } },\n",
    "    limit_ids=[limit_id],\n",
    "    request_tags=[\"a\", \"b\"]\n",
    ")\n",
    "\n",
    "print(f\"Ingest request ID: {response.request_id}\")\n",
    "print(f\"Input Base Cost: {response.xproxy_result.cost.input.base}\")\n",
    "print(f\"Output Base Cost: {response.xproxy_result.cost.output.base}\")\n",
    "print(f\"Total Base Cost: {response.xproxy_result.cost.total.base}\")"
   ]
  },
  {
   "cell_type": "markdown",
   "metadata": {},
   "source": [
    "Reset a limit back to zero tracked cost"
   ]
  },
  {
   "cell_type": "code",
   "execution_count": null,
   "metadata": {},
   "outputs": [],
   "source": [
    "response = payi_client.limits.reset(limit_id=limit_id)\n",
    "print(response.message)\n",
    "print(\"State prior to reset: \")\n",
    "print(f\"Limit Name: {response.limit_history.limit_name}\")\n",
    "print(f\"Limit ID: {response.limit_history.limit_id}\")\n",
    "print(f\"Limit Tags: {response.limit_history.limit_tags}\")\n",
    "print(f\"Limit Reset Timestamp: {response.limit_history.limit_reset_timestamp}\")\n",
    "print(f\"Limit Input Base Cost: {response.limit_history.totals.cost.input.base}\")\n",
    "print(f\"Limit Output Base Cost: {response.limit_history.totals.cost.output.base}\")\n",
    "print(f\"Limit Total Base Cost: {response.limit_history.totals.cost.total.base}\")\n",
    "\n",
    "print(\"\\nState after reset:\")\n",
    "response = payi_client.limits.retrieve(limit_id=limit_id)\n",
    "print(f\"Limit Name: {response.limit.limit_name}\")\n",
    "print(f\"Limit ID: {response.limit.limit_id}\")\n",
    "print(f\"Limit Creation Timestamp: {response.limit.limit_creation_timestamp}\")\n",
    "print(f\"Limit Tags: {response.limit.limit_tags}\")\n",
    "print(f\"Limit Input Base Cost: {response.limit.totals.cost}\")\n",
    "print(f\"Limit Output Base Cost: {response.limit.totals.cost.output.base}\")\n",
    "print(f\"Limit Total Base Cost: {response.limit.totals.cost.total.base}\")"
   ]
  },
  {
   "cell_type": "markdown",
   "metadata": {},
   "source": [
    "Create a small blocking limit that will prevent calls from happening that exceed the maximum, then capture the output."
   ]
  },
  {
   "cell_type": "code",
   "execution_count": null,
   "metadata": {},
   "outputs": [],
   "source": [
    "limit_response = payi_client.limits.create(\n",
    "    #As long as the limit configuration remains the same across creates, the same limit name can be used repeatedly\n",
    "    limit_name='Anthropic quickstart block limit',\n",
    "    max=0.00000001, \n",
    "    limit_type=\"block\",\n",
    "    limit_tags=[\"limit_block_example\"]\n",
    ")\n",
    "block_limit = limit_response.limit.limit_id\n",
    "\n",
    "print(\"Limit Created\")\n",
    "print(f\"Limit Name: {limit_response.limit.limit_name}\")\n",
    "print(f\"Limit ID: {limit_response.limit.limit_id}\")\n",
    "\n",
    "try:\n",
    "    response = client.messages.create(\n",
    "        model=\"claude-3-5-sonnet-20241022\",\n",
    "        max_tokens=500,\n",
    "        messages=[\n",
    "            {\n",
    "                \"role\": \"user\",\n",
    "                \"content\": [\n",
    "                    {\n",
    "                        \"type\": \"text\",\n",
    "                        \"text\": \"provide me a list of toys for children 5 and under\"\n",
    "                    }\n",
    "                ]\n",
    "            }\n",
    "        ],\n",
    "        extra_headers=create_headers(\n",
    "            request_tags=[\"x\", \"y\"],\n",
    "            limit_ids=[block_limit]\n",
    "        )\n",
    "    )\n",
    "\n",
    "    completion = response.content[0].text\n",
    "    print(completion)\n",
    "\n",
    "    response = client.messages.create(\n",
    "        model=\"claude-3-5-sonnet-20241022\",\n",
    "        max_tokens=500,\n",
    "        messages=[\n",
    "            {\n",
    "                \"role\": \"user\",\n",
    "                \"content\": [\n",
    "                    {\n",
    "                        \"type\": \"text\",\n",
    "                        \"text\": \"tell me a short story about a toy\"\n",
    "                    }\n",
    "                ]\n",
    "            }\n",
    "        ],\n",
    "        extra_headers=create_headers(\n",
    "            request_tags=[\"x\", \"y\"],\n",
    "            limit_ids=[block_limit]\n",
    "        )\n",
    "    )\n",
    "except Exception as e:\n",
    "    print(json.dumps(e.body, indent=4))"
   ]
  },
  {
   "cell_type": "markdown",
   "metadata": {},
   "source": [
    "Create an use case definition and send a request with use case. Pay-i will auto generate a use case id that can be specified later."
   ]
  },
  {
   "cell_type": "code",
   "execution_count": null,
   "metadata": {
    "vscode": {
     "languageId": "markdown"
    }
   },
   "outputs": [],
   "source": [
    "# Create a use case definition\n",
    "use_case_name=\"anthropic_quickstart_use_case\"\n",
    "use_case_response = payi_client.use_cases.definitions.create(\n",
    "    name=use_case_name,\n",
    "    description=\"An example of a use case\"\n",
    ")\n",
    "\n",
    "# Make a request using the limit, request tags, and use case\n",
    "message = client.messages.create(\n",
    "    model=\"claude-3-sonnet-20240229\",\n",
    "    max_tokens=500,\n",
    "    messages=[\n",
    "        {\n",
    "            \"role\": \"user\",\n",
    "            \"content\": [\n",
    "                {\n",
    "                    \"type\": \"text\",\n",
    "                    \"text\": \"Say 'this is a test'\"\n",
    "                }\n",
    "            ]\n",
    "        }\n",
    "    ],\n",
    "    extra_headers=create_headers(\n",
    "        request_tags=[\"x\", \"y\"],\n",
    "        limit_ids=[limit_id],\n",
    "        use_case_name=use_case_name\n",
    "    )\n",
    ")\n",
    "\n",
    "completion = message.content[0].text\n",
    "print(completion)\n",
    "\n",
    "xproxy_result = message.xproxy_result\n",
    "use_case_id = xproxy_result['use_case_id']\n",
    "print(json.dumps(xproxy_result, indent=4))"
   ]
  },
  {
   "cell_type": "markdown",
   "metadata": {},
   "source": [
    "Send a request with a limit and user ID"
   ]
  },
  {
   "cell_type": "code",
   "execution_count": null,
   "metadata": {
    "vscode": {
     "languageId": "markdown"
    }
   },
   "outputs": [],
   "source": [
    "# Make a request using the limit, request tags, and user id\n",
    "message = client.messages.create(\n",
    "    model=\"claude-3-sonnet-20240229\",\n",
    "    max_tokens=500,\n",
    "    messages=[\n",
    "        {\n",
    "            \"role\": \"user\",\n",
    "            \"content\": [\n",
    "                {\n",
    "                    \"type\": \"text\",\n",
    "                    \"text\": \"Say 'this is a test'\"\n",
    "                }\n",
    "            ]\n",
    "        }\n",
    "    ],\n",
    "    extra_headers=create_headers(\n",
    "        limit_ids=[limit_id],\n",
    "        # user id can be any string value\n",
    "        user_id=\"example_user_id\"\n",
    "    )\n",
    ")\n",
    "\n",
    "completion = message.content[0].text\n",
    "print(completion)\n",
    "\n",
    "xproxy_result = message.xproxy_result\n",
    "print(json.dumps(xproxy_result, indent=4))"
   ]
  },
  {
   "cell_type": "markdown",
   "metadata": {},
   "source": [
    "List and then delete all limits"
   ]
  },
  {
   "cell_type": "code",
   "execution_count": null,
   "metadata": {},
   "outputs": [],
   "source": [
    "response = payi_client.limits.list()\n",
    "for limit in response.items:\n",
    "    print(\"Deleting limit with id:\" + limit.limit_id)\n",
    "    payi_client.limits.delete(limit.limit_id)"
   ]
  }
 ],
 "metadata": {
  "kernelspec": {
   "display_name": ".venv",
   "language": "python",
   "name": "python3"
  },
  "language_info": {
   "codemirror_mode": {
    "name": "ipython",
    "version": 3
   },
   "file_extension": ".py",
   "mimetype": "text/x-python",
   "name": "python",
   "nbconvert_exporter": "python",
   "pygments_lexer": "ipython3",
   "version": "3.13.3"
  }
 },
 "nbformat": 4,
 "nbformat_minor": 2
}
