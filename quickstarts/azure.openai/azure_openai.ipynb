{
 "cells": [
  {
   "cell_type": "code",
   "execution_count": null,
   "metadata": {},
   "outputs": [],
   "source": [
    "%pip install --upgrade -r requirements.txt"
   ]
  },
  {
   "cell_type": "markdown",
   "metadata": {},
   "source": [
    "Basic Azure OpenAI Integration"
   ]
  },
  {
   "cell_type": "code",
   "execution_count": null,
   "metadata": {},
   "outputs": [],
   "source": [
    "from payi.lib.helpers import payi_azure_openai_url, PayiHeaderNames\n",
    "from openai import AzureOpenAI\n",
    "from dotenv import load_dotenv\n",
    "import json\n",
    "import os\n",
    "\n",
    "load_dotenv()\n",
    "\n",
    "# Read the API KEY from the environment, replace the default values (the second argument) with your own keys if needed\n",
    "azure_openai_key = os.getenv(\"AZURE_OPENAI_API_KEY\", \"YOUR_AZURE_OPENAI_API_KEY\")\n",
    "\n",
    "# Replace with the API version of your Azure OpenAI deployment\n",
    "azure_openapi_version = os.getenv(\"AZURE_OPENAI_VERION\", \"2024-02-15-preview\")\n",
    "\n",
    "# Replace with your deployed Azure OpenAI endpoint URI\n",
    "azure_endpoint = os.getenv(\"AZURE_OPENAI_ENDPOINT\", \"YOUR_AZURE_OPENAI_ENDPOINT\")\n",
    "\n",
    "# Replace with your Azure OpenAI Deployment Name, e.g. \"test-4o\"\n",
    "azure_deployment = os.getenv(\"AZURE_OPENAI_DEPLOYMENT\", \"YOUR_AZURE_OPENAI_DEPLOYMENT\")\n",
    "\n",
    "# Replace with your Azure OpenAI Model Name, e.g. \"gpt-4o-2024-05-13\"\n",
    "# Pay-i requires the model name to understand the mapping from deployment to model\n",
    "azure_model = os.getenv(\"AZURE_OPENAI_MODEL\", \"YOUR_AZURE_OPENAI_MODEL\")\n",
    "\n",
    "#Read the API KEYs from the environment, replace the default values (the second argument) with your own keys if needed\n",
    "payi_api_key = os.getenv(\"PAYI_API_KEY\", \"YOUR_PAYI_API_KEY\")\n",
    "\n",
    "# Replace with one of the following values: \"global\", \"datazone\", or \"region\" depending on your azure deployment type\n",
    "azure_deployement_type = None\n",
    "\n",
    "payi_headers = {\n",
    "    PayiHeaderNames.api_key: payi_api_key,\n",
    "    PayiHeaderNames.provider_base_uri: azure_endpoint,\n",
    "    PayiHeaderNames.price_as_resource: azure_model,\n",
    "}\n",
    "\n",
    "if azure_deployement_type is not None:\n",
    "    payi_headers[PayiHeaderNames.resource_scope] = azure_deployement_type\n",
    "\n",
    "oai_client = AzureOpenAI(\n",
    "    api_key=azure_openai_key,\n",
    "    api_version=azure_openapi_version,\n",
    "    azure_endpoint=payi_azure_openai_url(),\n",
    "    default_headers=payi_headers\n",
    ")\n",
    "\n",
    "response = oai_client.chat.completions.create(\n",
    "    model=azure_deployment,\n",
    "    messages=[{\"role\": \"user\", \"content\": \"Say 'this is a test'\"}]\n",
    ")\n",
    "\n",
    "completion = response.choices[0].message.content\n",
    "print(completion)\n",
    "\n",
    "xproxy_result = response.xproxy_result\n",
    "print(json.dumps(xproxy_result, indent=4))"
   ]
  },
  {
   "cell_type": "markdown",
   "metadata": {},
   "source": [
    "Handle streaming calls. xproxy_result is returned as part of the last chunk."
   ]
  },
  {
   "cell_type": "code",
   "execution_count": null,
   "metadata": {},
   "outputs": [],
   "source": [
    "stream = oai_client.chat.completions.create(\n",
    "    model=azure_deployment,\n",
    "    messages=[{\"role\": \"user\", \"content\": \"tell me a very short story\"}],\n",
    "    stream=True,\n",
    ")\n",
    "for chunk in stream:\n",
    "    if chunk.choices is not None and len(chunk.choices) > 0 and chunk.choices[0].delta.content is not None:\n",
    "        print(chunk.choices[0].delta.content, end=\"\")\n",
    "    if 'xproxy_result' in chunk.model_extra:\n",
    "        print()\n",
    "        print(json.dumps(chunk.model_extra['xproxy_result'], indent=4))"
   ]
  },
  {
   "cell_type": "markdown",
   "metadata": {},
   "source": [
    "Use the Pay-i SDK to send a request with a request tag"
   ]
  },
  {
   "cell_type": "code",
   "execution_count": null,
   "metadata": {},
   "outputs": [],
   "source": [
    "from payi.lib.helpers import create_headers\n",
    "\n",
    "response = oai_client.chat.completions.create(\n",
    "    model=azure_deployment,\n",
    "    messages=[{\"role\": \"user\", \"content\": \"Say 'this is a test'\"}]\n",
    ")\n",
    "\n",
    "completion = response.choices[0].message.content\n",
    "print(completion)\n",
    "\n",
    "xproxy_result = response.xproxy_result\n",
    "print(json.dumps(xproxy_result, indent=4))"
   ]
  },
  {
   "cell_type": "markdown",
   "metadata": {},
   "source": [
    "Create a limit and make a request with that limit"
   ]
  },
  {
   "cell_type": "code",
   "execution_count": null,
   "metadata": {},
   "outputs": [],
   "source": [
    "from payi import Payi\n",
    "\n",
    "payi_client = Payi(\n",
    "    api_key=payi_api_key\n",
    ")\n",
    "\n",
    "# Create a limit\n",
    "limit_response = payi_client.limits.create(\n",
    "    # As long as the limit configuration remains the same across creates, the same limit name can be used repeatedly\n",
    "    limit_name='Azure OpenAI quickstart allow limit', \n",
    "    max=12.50, # $12.50 USD\n",
    "    limit_type=\"Allow\",\n",
    "    limit_tags=[\"example_limit\"]\n",
    ")\n",
    "\n",
    "limit_name = limit_response.limit.limit_name\n",
    "limit_id = limit_response.limit.limit_id\n",
    "\n",
    "print(\"Limit Created\")\n",
    "print(f\"Limit Name: {limit_name}\")\n",
    "print(f\"Limit ID: {limit_id}\")\n",
    "\n",
    "# Make a request using the new limit\n",
    "response = oai_client.chat.completions.create(\n",
    "    model=azure_deployment, \n",
    "    messages=[{\"role\": \"user\", \"content\": \"Say 'this is a test'\"}],\n",
    "    extra_headers=create_headers(\n",
    "        limit_ids=[limit_id]\n",
    "    )\n",
    ")\n",
    "\n",
    "completion = response.choices[0].message.content\n",
    "print(completion)\n",
    "\n",
    "xproxy_result = response.xproxy_result\n",
    "print(json.dumps(xproxy_result, indent=4))"
   ]
  },
  {
   "cell_type": "markdown",
   "metadata": {},
   "source": [
    "See limit status"
   ]
  },
  {
   "cell_type": "code",
   "execution_count": null,
   "metadata": {},
   "outputs": [],
   "source": [
    "response = payi_client.limits.retrieve(limit_id=limit_id)\n",
    "print(f\"Limit Name: {response.limit.limit_name}\")\n",
    "print(f\"Limit ID: {response.limit.limit_id}\")\n",
    "print(f\"Limit Creation Timestamp: {response.limit.limit_creation_timestamp}\")\n",
    "print(f\"Limit Tags: {response.limit.limit_tags}\")\n",
    "print(f\"Limit Input Base Cost: {response.limit.totals.cost.input.base}\")\n",
    "print(f\"Limit Output Base Cost: {response.limit.totals.cost.output.base}\")\n",
    "print(f\"Limit Total Base Cost: {response.limit.totals.cost.output.base}\")"
   ]
  },
  {
   "cell_type": "markdown",
   "metadata": {},
   "source": [
    "Make an ingest call with pre-computed token values"
   ]
  },
  {
   "cell_type": "code",
   "execution_count": null,
   "metadata": {},
   "outputs": [],
   "source": [
    "response = payi_client.ingest.units(\n",
    "    category=\"system.openai\",\n",
    "    resource=\"gpt-4o\",\n",
    "    units={ \"text\": { \"input\": 50, \"output\": 100 } },\n",
    "    limit_ids= [limit_id],\n",
    "    properties = {\"key1\": \"a\", \"key2\": \"b\"}\n",
    ")\n",
    "\n",
    "print(f\"Ingest request ID: {response.request_id}\")\n",
    "print(f\"Input Base Cost: {response.xproxy_result.cost.input.base}\")\n",
    "print(f\"Output Base Cost: {response.xproxy_result.cost.output.base}\")\n",
    "print(f\"Total Base Cost: {response.xproxy_result.cost.total.base}\")"
   ]
  },
  {
   "cell_type": "markdown",
   "metadata": {},
   "source": [
    "Reset a limit back to zero tracked cost"
   ]
  },
  {
   "cell_type": "code",
   "execution_count": null,
   "metadata": {},
   "outputs": [],
   "source": [
    "response = payi_client.limits.reset(limit_id=limit_id)\n",
    "print(response.message)\n",
    "print(\"State prior to reset: \")\n",
    "print(f\"Limit Name: {response.limit_history.limit_name}\")\n",
    "print(f\"Limit ID: {response.limit_history.limit_id}\")\n",
    "print(f\"Limit Tags: {response.limit_history.limit_tags}\")\n",
    "print(f\"Limit Reset Timestamp: {response.limit_history.limit_reset_timestamp}\")\n",
    "print(f\"Limit Input Base Cost: {response.limit_history.totals.cost.input.base}\")\n",
    "print(f\"Limit Output Base Cost: {response.limit_history.totals.cost.output.base}\")\n",
    "print(f\"Limit Total Base Cost: {response.limit_history.totals.cost.total.base}\")\n",
    "\n",
    "print(\"\\nState after reset:\")\n",
    "response = payi_client.limits.retrieve(limit_id=limit_id)\n",
    "print(f\"Limit Name: {response.limit.limit_name}\")\n",
    "print(f\"Limit ID: {response.limit.limit_id}\")\n",
    "print(f\"Limit Creation Timestamp: {response.limit.limit_creation_timestamp}\")\n",
    "print(f\"Limit Tags: {response.limit.limit_tags}\")\n",
    "print(f\"Limit Input Base Cost: {response.limit.totals.cost}\")\n",
    "print(f\"Limit Output Base Cost: {response.limit.totals.cost.output.base}\")\n",
    "print(f\"Limit Total Base Cost: {response.limit.totals.cost.total.base}\")"
   ]
  },
  {
   "cell_type": "markdown",
   "metadata": {},
   "source": [
    "Create a small blocking limit that will prevent calls from happening that exceed the maximum, then capture the output."
   ]
  },
  {
   "cell_type": "code",
   "execution_count": null,
   "metadata": {},
   "outputs": [],
   "source": [
    "limit_response = payi_client.limits.create(\n",
    "    # As long as the limit configuration remains the same across creates, the same limit name can be used repeatedly\n",
    "    limit_name='Azure OpenAI quickstart block limit',\n",
    "    max=0.0000001,\n",
    "    limit_type=\"block\",\n",
    "    limit_tags=[\"limit_block_example\"]\n",
    ")\n",
    "block_limit = limit_response.limit.limit_id\n",
    "\n",
    "print(\"Limit Created\")\n",
    "print(f\"Limit Name: {limit_response.limit.limit_name}\")\n",
    "print(f\"Limit ID: {limit_response.limit.limit_id}\")\n",
    "\n",
    "try:\n",
    "    response = oai_client.chat.completions.create(\n",
    "        model=azure_deployment,\n",
    "        messages=[{\"role\": \"user\", \"content\": \"provide me a list of toys for children 5 and under\"}],\n",
    "        extra_headers=create_headers(\n",
    "            limit_ids=[block_limit]\n",
    "        )\n",
    "    )\n",
    "\n",
    "    completion = response.choices[0].message.content\n",
    "    print(completion)\n",
    "\n",
    "    response = oai_client.chat.completions.create(\n",
    "        model=azure_deployment,\n",
    "        messages=[{\"role\": \"user\", \"content\": \"tell me a short story about a toy\"}],\n",
    "        extra_headers=create_headers(\n",
    "            limit_ids=[block_limit]\n",
    "        )\n",
    "    )\n",
    "except Exception as e:\n",
    "    print(json.dumps(e.body, indent=4))"
   ]
  },
  {
   "cell_type": "markdown",
   "metadata": {},
   "source": [
    "Create a use case definition and send a request with the use case. Pay-i will auto generate an use case id that can be specified later."
   ]
  },
  {
   "cell_type": "code",
   "execution_count": null,
   "metadata": {},
   "outputs": [],
   "source": [
    "# Create a use case type\n",
    "use_case_name=\"azure_openai_quickstart_use_case\"\n",
    "use_case_response = payi_client.use_cases.definitions.create(\n",
    "    name=use_case_name,\n",
    "    description=\"An example of a use case\"\n",
    ")\n",
    "\n",
    "# Make a request using the new limit\n",
    "response = oai_client.chat.completions.create(\n",
    "    model=azure_deployment, \n",
    "    messages=[{\"role\": \"user\", \"content\": \"Say 'this is a test'\"}],\n",
    "    extra_headers=create_headers(\n",
    "        limit_ids=[limit_id],\n",
    "        use_case_name=use_case_name\n",
    "    )\n",
    ")\n",
    "\n",
    "completion = response.choices[0].message.content\n",
    "print(completion)\n",
    "\n",
    "xproxy_result = response.xproxy_result\n",
    "use_case_id = xproxy_result['use_case_id']\n",
    "print(json.dumps(xproxy_result, indent=4))"
   ]
  },
  {
   "cell_type": "markdown",
   "metadata": {},
   "source": [
    "Send a request with a limit and user ID"
   ]
  },
  {
   "cell_type": "code",
   "execution_count": null,
   "metadata": {},
   "outputs": [],
   "source": [
    "# Make a request using the limit and user id\n",
    "response = oai_client.chat.completions.create(\n",
    "    model=azure_deployment, \n",
    "    messages=[{\"role\": \"user\", \"content\": \"Say 'this is a test'\"}],\n",
    "    extra_headers=create_headers(\n",
    "        limit_ids=[limit_id],\n",
    "        # user id can be any string value\n",
    "        user_id=\"example_user_id\"\n",
    "    )\n",
    ")\n",
    "\n",
    "completion = response.choices[0].message.content\n",
    "print(completion)\n",
    "\n",
    "xproxy_result = response.xproxy_result\n",
    "print(json.dumps(xproxy_result, indent=4))"
   ]
  },
  {
   "cell_type": "markdown",
   "metadata": {},
   "source": [
    "List and then delete all limits"
   ]
  },
  {
   "cell_type": "code",
   "execution_count": null,
   "metadata": {},
   "outputs": [],
   "source": [
    "response = payi_client.limits.list()\n",
    "for limit in response.items:\n",
    "    print(\"Deleting limit with id:\" + limit.limit_id)\n",
    "    payi_client.limits.delete(limit.limit_id)"
   ]
  }
 ],
 "metadata": {
  "kernelspec": {
   "display_name": ".venv",
   "language": "python",
   "name": "python3"
  },
  "language_info": {
   "codemirror_mode": {
    "name": "ipython",
    "version": 3
   },
   "file_extension": ".py",
   "mimetype": "text/x-python",
   "name": "python",
   "nbconvert_exporter": "python",
   "pygments_lexer": "ipython3",
   "version": "3.13.7"
  }
 },
 "nbformat": 4,
 "nbformat_minor": 2
}
