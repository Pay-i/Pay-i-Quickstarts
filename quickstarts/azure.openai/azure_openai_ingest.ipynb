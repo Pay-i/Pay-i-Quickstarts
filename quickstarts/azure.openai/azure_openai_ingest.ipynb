{
 "cells": [
  {
   "cell_type": "code",
   "execution_count": null,
   "metadata": {},
   "outputs": [],
   "source": [
    "%pip install --upgrade -r requirements.txt"
   ]
  },
  {
   "cell_type": "markdown",
   "metadata": {},
   "source": [
    "Create the Pay-i and Azure OpenAI clients"
   ]
  },
  {
   "cell_type": "code",
   "execution_count": null,
   "metadata": {},
   "outputs": [],
   "source": [
    "import os\n",
    "from dotenv import load_dotenv\n",
    "\n",
    "from openai import AzureOpenAI \n",
    "from payi import Payi\n",
    "\n",
    "load_dotenv()\n",
    "\n",
    "# Read the API KEY from the environment, replace the default values (the second argument) with your own keys if needed\n",
    "azure_openai_key = os.getenv(\"AZURE_OPENAI_API_KEY\", \"YOUR_AZURE_OPENAI_API_KEY\")\n",
    "\n",
    "# Replace with the API version of your Azure OpenAI deployment\n",
    "azure_openapi_version = os.getenv(\"AZURE_OPENAI_VERION\", \"2024-02-15-preview\")\n",
    "\n",
    "# Replace with your deployed Azure OpenAI endpoint URI\n",
    "azure_endpoint = os.getenv(\"AZURE_OPENAI_ENDPOINT\", \"YOUR_AZURE_OPENAI_ENDPOINT\")\n",
    "\n",
    "# Replace with your Azure OpenAI Deployment Name, e.g. \"test-4o\"\n",
    "azure_deployment = os.getenv(\"AZURE_OPENAI_DEPLOYMENT\", \"YOUR_AZURE_OPENAI_DEPLOYMENT\")\n",
    "\n",
    "# Replace with your Azure OpenAI Model Name, e.g. \"gpt-4o-2024-05-13\"\n",
    "# Pay-i requires the model name to understand the mapping from deployment to model\n",
    "azure_model = os.getenv(\"AZURE_OPENAI_MODEL\", \"YOUR_AZURE_OPENAI_MODEL\")\n",
    "\n",
    "# Replace with one of the following values: \"global\", \"datazone\", or \"region\" depending on your azure deployment type\n",
    "azure_deployment_type = None\n",
    "\n",
    "client = AzureOpenAI(\n",
    "    api_key=azure_openai_key,\n",
    "    azure_endpoint=azure_endpoint,\n",
    "    api_version=azure_openapi_version,\n",
    ")\n",
    "\n",
    "payi_api_key= os.getenv(\"PAYI_API_KEY\", \"YOUR_PAYI_API_KEY\")\n",
    "\n",
    "payi = Payi(\n",
    "    api_key=payi_api_key,\n",
    ")"
   ]
  },
  {
   "cell_type": "markdown",
   "metadata": {},
   "source": [
    "Create a use case definition and limit.  Both will be used when ingesting data into Pay-i"
   ]
  },
  {
   "cell_type": "code",
   "execution_count": null,
   "metadata": {},
   "outputs": [],
   "source": [
    "use_case_name = 'azure_openai_ingest_use_case_test'\n",
    "payi.use_cases.definitions.create(name=use_case_name, description='This is a test use case')\n",
    " \n",
    "result = payi.limits.create(max=10_000, limit_name='azure_openai_ingest_limit')\n",
    "limit_id = result.limit.limit_id\n",
    "\n",
    "print(f\"Created limit with id {limit_id}\")"
   ]
  },
  {
   "cell_type": "markdown",
   "metadata": {},
   "source": [
    "Instrument the AzureOpenAI client so that the use case is associated with each inference call"
   ]
  },
  {
   "cell_type": "code",
   "execution_count": null,
   "metadata": {},
   "outputs": [],
   "source": [
    "from payi.lib.instrument import payi_instrument\n",
    "\n",
    "# Not passing payi as a parameter requires the env var \"PAYI_API_KEY\" is set, otherwise pass payi=payi\n",
    "# When use_case_name is provided and use_id is not, a use instance id will be automatically created and the same id will be applied to all AzureOpenAI calls\n",
    "payi_instrument(config={\"use_case_name\": use_case_name})"
   ]
  },
  {
   "cell_type": "markdown",
   "metadata": {},
   "source": [
    "Helper method to call the AzureOpenAI client and pass additional information to Pay-i "
   ]
  },
  {
   "cell_type": "code",
   "execution_count": null,
   "metadata": {},
   "outputs": [],
   "source": [
    "from payi.lib.instrument import track_context\n",
    "\n",
    "def call_azure_openai(client, limit_id, user_id):\n",
    "    with track_context(route_as_resource=azure_model, resource_scope = azure_deployment_type, request_tags=['x', 'y'], user_id=user_id, limit_ids=[limit_id]):\n",
    "        response = client.chat.completions.create(\n",
    "            model=azure_deployment,\n",
    "            messages=[{\"role\": \"user\", \"content\": \"Say 'this is a test'\"}],\n",
    "            # To pass per method metadata to ingest, specify each metadata value in the call to create_headers.  \n",
    "            # These additional header values will not be sent to AzureOpenAI.\n",
    "            # route_as_resource and resource_scope are required to properly ingest Azure OpenAI results\n",
    "        )\n",
    "    \n",
    "        completion = response.choices[0].message.content\n",
    "        print(completion)\n",
    "\n",
    "        # Additional calls to AzureOpenAI can be made here and will be ingested.\n",
    "        # If another method is called, it's calls to AzureOpenAI will also be ingested.\n",
    "        ...\n"
   ]
  },
  {
   "cell_type": "markdown",
   "metadata": {},
   "source": [
    "Call AzureOpenAI and the results are automatically ingested by the Pay-i instrumentation"
   ]
  },
  {
   "cell_type": "code",
   "execution_count": null,
   "metadata": {},
   "outputs": [],
   "source": [
    "call_azure_openai(client, limit_id, 'a_user_id')"
   ]
  },
  {
   "cell_type": "markdown",
   "metadata": {},
   "source": [
    "See that the limit input, output, and total base cost has been updated with the ingest data"
   ]
  },
  {
   "cell_type": "code",
   "execution_count": null,
   "metadata": {},
   "outputs": [],
   "source": [
    "response = payi.limits.retrieve(limit_id=limit_id)\n",
    "print(f\"Limit Name: {response.limit.limit_name}\")\n",
    "print(f\"Limit ID: {response.limit.limit_id}\")\n",
    "print(f\"Limit Creation Timestamp: {response.limit.limit_creation_timestamp}\")\n",
    "print(f\"Limit Tags: {response.limit.limit_tags}\")\n",
    "print(f\"Limit Input Base Cost: {response.limit.totals.cost.input.base}\")\n",
    "print(f\"Limit Output Base Cost: {response.limit.totals.cost.output.base}\")\n",
    "print(f\"Limit Total Base Cost: {response.limit.totals.cost.total.base}\")"
   ]
  },
  {
   "cell_type": "markdown",
   "metadata": {},
   "source": [
    "Reset a limit back to zero tracked cost"
   ]
  },
  {
   "cell_type": "code",
   "execution_count": null,
   "metadata": {},
   "outputs": [],
   "source": [
    "print(\"\\nState prior to reset:\")\n",
    "response = payi.limits.reset(limit_id=limit_id)\n",
    "print(f\"Limit Name: {response.limit_history.limit_name}\")\n",
    "print(f\"Limit ID: {response.limit_history.limit_id}\")\n",
    "print(f\"Limit Reset Timestamp: {response.limit_history.limit_reset_timestamp}\")\n",
    "print(f\"Limit Tags: {response.limit_history.limit_tags}\")\n",
    "print(f\"Limit Input Base Cost: {response.limit_history.totals.cost.input.base}\")\n",
    "print(f\"Limit Output Base Cost: {response.limit_history.totals.cost.output.base}\")\n",
    "print(f\"Limit Total Base Cost: {response.limit_history.totals.cost.total.base}\")\n",
    "\n",
    "print(\"\\nState after reset:\")\n",
    "response = payi.limits.retrieve(limit_id=limit_id)\n",
    "print(f\"Limit Name: {response.limit.limit_name}\")\n",
    "print(f\"Limit ID: {response.limit.limit_id}\")\n",
    "print(f\"Limit Creation Timestamp: {response.limit.limit_creation_timestamp}\")\n",
    "print(f\"Limit Tags: {response.limit.limit_tags}\")\n",
    "print(f\"Limit Input Base Cost: {response.limit.totals.cost.input.base}\")\n",
    "print(f\"Limit Output Base Cost: {response.limit.totals.cost.output.base}\")\n",
    "print(f\"Limit Total Base Cost: {response.limit.totals.cost.total.base}\")"
   ]
  }
 ],
 "metadata": {
  "kernelspec": {
   "display_name": ".venv",
   "language": "python",
   "name": "python3"
  },
  "language_info": {
   "codemirror_mode": {
    "name": "ipython",
    "version": 3
   },
   "file_extension": ".py",
   "mimetype": "text/x-python",
   "name": "python",
   "nbconvert_exporter": "python",
   "pygments_lexer": "ipython3",
   "version": "3.13.3"
  }
 },
 "nbformat": 4,
 "nbformat_minor": 2
}
